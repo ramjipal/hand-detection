{
 "cells": [
  {
   "cell_type": "code",
   "execution_count": 1,
   "metadata": {},
   "outputs": [],
   "source": [
    "import cv2\n",
    "import mediapipe as mp\n",
    "import time"
   ]
  },
  {
   "cell_type": "code",
   "execution_count": 2,
   "metadata": {},
   "outputs": [],
   "source": [
    "webcame = cv2.VideoCapture(0)\n",
    "mpHands = mp.solutions.hands\n",
    "#initialize a mediapipe object\n",
    "hands = mpHands.Hands()\n",
    "mpDraw = mp.solutions.drawing_utils"
   ]
  },
  {
   "cell_type": "code",
   "execution_count": 3,
   "metadata": {},
   "outputs": [],
   "source": [
    "current_time = 0\n",
    "previous_time = 0"
   ]
  },
  {
   "cell_type": "code",
   "execution_count": 4,
   "metadata": {},
   "outputs": [],
   "source": [
    "\n",
    "\n",
    "from turtle import color\n",
    "\n",
    "\n",
    "while webcame.isOpened():\n",
    "     success, imgbgr = webcame.read()\n",
    "     \n",
    "     #resizing the frame for better view\n",
    "     imgbgr = cv2.resize(imgbgr, (1000,800))\n",
    "     \n",
    "     #convert the image from bgr to rgb \n",
    "     imgrgb = cv2.cvtColor(imgbgr, cv2.COLOR_BGR2RGB)\n",
    "     \n",
    "     #process the image\n",
    "     results = hands.process(imgrgb)\n",
    "     \n",
    "     #chekc if results has multiple hand landmarks or not\n",
    "     # print(results.multi_hand_landmarks)\n",
    "     if results.multi_hand_landmarks:\n",
    "          for handLms in results.multi_hand_landmarks:\n",
    "               #this will provide the id and landmark of that id.\n",
    "               for id, lms in enumerate(handLms.landmark):\n",
    "                    #this will print the id and landmark(x, y, z) of the tip in decimal format we have to convert it into pixel format for further use.\n",
    "                    # print(id, lms)\n",
    "                    h, w, c = imgbgr.shape\n",
    "                    cx, cy = (int(lms.x*w)), (int(lms.y*h))\n",
    "                    if (id == 0):\n",
    "                         cv2.circle(imgbgr, (cx, cy), 15, (255,0,255), cv2.FILLED)\n",
    "        \n",
    "               mpDraw.draw_landmarks(imgbgr, handLms, mpHands.HAND_CONNECTIONS)\n",
    "               \n",
    "     \n",
    "#to calculate frame per seconds\n",
    "     current_time = time.time()\n",
    "     fps = 1/(current_time- previous_time) \n",
    "     previous_time = current_time\n",
    "     cv2.putText(imgbgr, str(int(fps)),(10, 70), cv2.FONT_HERSHEY_PLAIN,3,(255,255,0), 3 )\n",
    "     cv2.imshow(\"hand tracker\", imgbgr)\n",
    "     key = cv2.waitKey(1)\n",
    "     if (key == 81) or (key == 113):\n",
    "          break\n",
    "webcame.release()\n",
    "cv2.destroyAllWindows()"
   ]
  },
  {
   "cell_type": "code",
   "execution_count": null,
   "metadata": {},
   "outputs": [],
   "source": []
  },
  {
   "cell_type": "markdown",
   "metadata": {},
   "source": []
  }
 ],
 "metadata": {
  "kernelspec": {
   "display_name": "Python 3 (ipykernel)",
   "language": "python",
   "name": "python3"
  },
  "language_info": {
   "codemirror_mode": {
    "name": "ipython",
    "version": 3
   },
   "file_extension": ".py",
   "mimetype": "text/x-python",
   "name": "python",
   "nbconvert_exporter": "python",
   "pygments_lexer": "ipython3",
   "version": "3.10.4"
  },
  "vscode": {
   "interpreter": {
    "hash": "86a06cddc839e58b84165613c32a6a1782a3940d2ca8b951dc2fd98316d16a62"
   }
  }
 },
 "nbformat": 4,
 "nbformat_minor": 2
}
